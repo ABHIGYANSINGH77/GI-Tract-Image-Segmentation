{
 "cells": [
  {
   "cell_type": "code",
   "execution_count": 1,
   "id": "35cb4960",
   "metadata": {
    "execution": {
     "iopub.execute_input": "2022-07-09T13:53:41.713259Z",
     "iopub.status.busy": "2022-07-09T13:53:41.711942Z",
     "iopub.status.idle": "2022-07-09T13:53:41.715082Z",
     "shell.execute_reply": "2022-07-09T13:53:41.715996Z",
     "shell.execute_reply.started": "2022-07-09T13:51:41.588275Z"
    },
    "papermill": {
     "duration": 0.043029,
     "end_time": "2022-07-09T13:53:41.716201",
     "exception": false,
     "start_time": "2022-07-09T13:53:41.673172",
     "status": "completed"
    },
    "tags": []
   },
   "outputs": [],
   "source": [
    "import sys\n",
    "\n",
    "sys.path.append('../input/monai-v081/')"
   ]
  },
  {
   "cell_type": "code",
   "execution_count": 2,
   "id": "0aed3c03",
   "metadata": {
    "execution": {
     "iopub.execute_input": "2022-07-09T13:53:41.755702Z",
     "iopub.status.busy": "2022-07-09T13:53:41.754936Z",
     "iopub.status.idle": "2022-07-09T13:53:48.363886Z",
     "shell.execute_reply": "2022-07-09T13:53:48.363343Z",
     "shell.execute_reply.started": "2022-07-09T13:51:41.616930Z"
    },
    "papermill": {
     "duration": 6.630544,
     "end_time": "2022-07-09T13:53:48.364018",
     "exception": false,
     "start_time": "2022-07-09T13:53:41.733474",
     "status": "completed"
    },
    "tags": []
   },
   "outputs": [],
   "source": [
    "import gc\n",
    "from glob import glob\n",
    "import os\n",
    "import numpy as np\n",
    "import pandas as pd\n",
    "import torch\n",
    "from torch import nn\n",
    "from monai.inferers import sliding_window_inference\n",
    "from monai.data import decollate_batch\n",
    "from monai.handlers.utils import from_engine\n",
    "from monai.networks.nets import UNet\n",
    "from torch.cuda.amp import GradScaler, autocast\n",
    "from tqdm import tqdm\n",
    "import json"
   ]
  },
  {
   "cell_type": "code",
   "execution_count": 3,
   "id": "f5768863",
   "metadata": {
    "execution": {
     "iopub.execute_input": "2022-07-09T13:53:48.406198Z",
     "iopub.status.busy": "2022-07-09T13:53:48.404581Z",
     "iopub.status.idle": "2022-07-09T13:53:48.406801Z",
     "shell.execute_reply": "2022-07-09T13:53:48.407214Z",
     "shell.execute_reply.started": "2022-07-09T13:51:48.266126Z"
    },
    "papermill": {
     "duration": 0.024996,
     "end_time": "2022-07-09T13:53:48.407355",
     "exception": false,
     "start_time": "2022-07-09T13:53:48.382359",
     "status": "completed"
    },
    "tags": []
   },
   "outputs": [],
   "source": [
    "from monai.data import CacheDataset, DataLoader\n",
    "from monai.transforms import (\n",
    "    Compose,\n",
    "    Activations,\n",
    "    AsDiscrete,\n",
    "    Activationsd,\n",
    "    AsDiscreted,\n",
    "    KeepLargestConnectedComponentd,\n",
    "    Invertd,\n",
    "    LoadImage,\n",
    "    Transposed,\n",
    "    LoadImaged,\n",
    "    AddChanneld,\n",
    "    CastToTyped,\n",
    "    Lambdad,\n",
    "    Resized,\n",
    "    EnsureTyped,\n",
    "    SpatialPadd,\n",
    "    EnsureChannelFirstd,\n",
    ")"
   ]
  },
  {
   "cell_type": "markdown",
   "id": "17634033",
   "metadata": {
    "papermill": {
     "duration": 0.017455,
     "end_time": "2022-07-09T13:53:48.442159",
     "exception": false,
     "start_time": "2022-07-09T13:53:48.424704",
     "status": "completed"
    },
    "tags": []
   },
   "source": [
    "## Prepare meta info."
   ]
  },
  {
   "cell_type": "code",
   "execution_count": 4,
   "id": "2c40dfcf",
   "metadata": {
    "execution": {
     "iopub.execute_input": "2022-07-09T13:53:48.484536Z",
     "iopub.status.busy": "2022-07-09T13:53:48.483911Z",
     "iopub.status.idle": "2022-07-09T13:53:48.486459Z",
     "shell.execute_reply": "2022-07-09T13:53:48.486045Z",
     "shell.execute_reply.started": "2022-07-09T13:51:48.274994Z"
    },
    "papermill": {
     "duration": 0.027697,
     "end_time": "2022-07-09T13:53:48.486556",
     "exception": false,
     "start_time": "2022-07-09T13:53:48.458859",
     "status": "completed"
    },
    "tags": []
   },
   "outputs": [],
   "source": [
    "def get_metadata(row):\n",
    "    data = row['id'].split('_')\n",
    "    case = int(data[0].replace('case',''))\n",
    "    day = int(data[1].replace('day',''))\n",
    "    slice_ = int(data[-1])\n",
    "    row['case'] = case\n",
    "    row['day'] = day\n",
    "    row['slice'] = slice_\n",
    "    return row\n",
    "\n",
    "def path2info(row):\n",
    "    path = row['image_path']\n",
    "    data = path.split('/')\n",
    "    slice_ = int(data[-1].split('_')[1])\n",
    "    case = int(data[-3].split('_')[0].replace('case',''))\n",
    "    day = int(data[-3].split('_')[1].replace('day',''))\n",
    "    width = int(data[-1].split('_')[2])\n",
    "    height = int(data[-1].split('_')[3])\n",
    "    row['height'] = height\n",
    "    row['width'] = width\n",
    "    row['case'] = case\n",
    "    row['day'] = day\n",
    "    row['slice'] = slice_\n",
    "    return row"
   ]
  },
  {
   "cell_type": "code",
   "execution_count": 5,
   "id": "3766f098",
   "metadata": {
    "execution": {
     "iopub.execute_input": "2022-07-09T13:53:48.525916Z",
     "iopub.status.busy": "2022-07-09T13:53:48.525283Z",
     "iopub.status.idle": "2022-07-09T13:53:50.367593Z",
     "shell.execute_reply": "2022-07-09T13:53:50.368063Z",
     "shell.execute_reply.started": "2022-07-09T13:51:48.286584Z"
    },
    "papermill": {
     "duration": 1.865014,
     "end_time": "2022-07-09T13:53:50.368228",
     "exception": false,
     "start_time": "2022-07-09T13:53:48.503214",
     "status": "completed"
    },
    "tags": []
   },
   "outputs": [],
   "source": [
    "sub_df = pd.read_csv('../input/uw-madison-gi-tract-image-segmentation/sample_submission.csv')\n",
    "if not len(sub_df):\n",
    "    debug = True\n",
    "    sub_df = pd.read_csv('../input/uw-madison-gi-tract-image-segmentation/train.csv')[:1000*3]\n",
    "    sub_df = sub_df.drop(columns=['class','segmentation']).drop_duplicates()\n",
    "else:\n",
    "    debug = False\n",
    "    sub_df = sub_df.drop(columns=['class','predicted']).drop_duplicates()\n",
    "sub_df = sub_df.apply(lambda x: get_metadata(x),axis=1)"
   ]
  },
  {
   "cell_type": "code",
   "execution_count": 6,
   "id": "774dccc5",
   "metadata": {
    "execution": {
     "iopub.execute_input": "2022-07-09T13:53:50.407606Z",
     "iopub.status.busy": "2022-07-09T13:53:50.407078Z",
     "iopub.status.idle": "2022-07-09T13:55:24.751554Z",
     "shell.execute_reply": "2022-07-09T13:55:24.752004Z",
     "shell.execute_reply.started": "2022-07-09T13:51:50.393201Z"
    },
    "papermill": {
     "duration": 94.366578,
     "end_time": "2022-07-09T13:55:24.752156",
     "exception": false,
     "start_time": "2022-07-09T13:53:50.385578",
     "status": "completed"
    },
    "tags": []
   },
   "outputs": [
    {
     "data": {
      "text/html": [
       "<div>\n",
       "<style scoped>\n",
       "    .dataframe tbody tr th:only-of-type {\n",
       "        vertical-align: middle;\n",
       "    }\n",
       "\n",
       "    .dataframe tbody tr th {\n",
       "        vertical-align: top;\n",
       "    }\n",
       "\n",
       "    .dataframe thead th {\n",
       "        text-align: right;\n",
       "    }\n",
       "</style>\n",
       "<table border=\"1\" class=\"dataframe\">\n",
       "  <thead>\n",
       "    <tr style=\"text-align: right;\">\n",
       "      <th></th>\n",
       "      <th>image_path</th>\n",
       "      <th>height</th>\n",
       "      <th>width</th>\n",
       "      <th>case</th>\n",
       "      <th>day</th>\n",
       "      <th>slice</th>\n",
       "    </tr>\n",
       "  </thead>\n",
       "  <tbody>\n",
       "    <tr>\n",
       "      <th>0</th>\n",
       "      <td>/kaggle/input/uw-madison-gi-tract-image-segmen...</td>\n",
       "      <td>266</td>\n",
       "      <td>266</td>\n",
       "      <td>36</td>\n",
       "      <td>14</td>\n",
       "      <td>6</td>\n",
       "    </tr>\n",
       "    <tr>\n",
       "      <th>1</th>\n",
       "      <td>/kaggle/input/uw-madison-gi-tract-image-segmen...</td>\n",
       "      <td>266</td>\n",
       "      <td>266</td>\n",
       "      <td>36</td>\n",
       "      <td>14</td>\n",
       "      <td>82</td>\n",
       "    </tr>\n",
       "    <tr>\n",
       "      <th>2</th>\n",
       "      <td>/kaggle/input/uw-madison-gi-tract-image-segmen...</td>\n",
       "      <td>266</td>\n",
       "      <td>266</td>\n",
       "      <td>36</td>\n",
       "      <td>14</td>\n",
       "      <td>113</td>\n",
       "    </tr>\n",
       "    <tr>\n",
       "      <th>3</th>\n",
       "      <td>/kaggle/input/uw-madison-gi-tract-image-segmen...</td>\n",
       "      <td>266</td>\n",
       "      <td>266</td>\n",
       "      <td>36</td>\n",
       "      <td>14</td>\n",
       "      <td>76</td>\n",
       "    </tr>\n",
       "    <tr>\n",
       "      <th>4</th>\n",
       "      <td>/kaggle/input/uw-madison-gi-tract-image-segmen...</td>\n",
       "      <td>266</td>\n",
       "      <td>266</td>\n",
       "      <td>36</td>\n",
       "      <td>14</td>\n",
       "      <td>125</td>\n",
       "    </tr>\n",
       "  </tbody>\n",
       "</table>\n",
       "</div>"
      ],
      "text/plain": [
       "                                          image_path  height  width  case  \\\n",
       "0  /kaggle/input/uw-madison-gi-tract-image-segmen...     266    266    36   \n",
       "1  /kaggle/input/uw-madison-gi-tract-image-segmen...     266    266    36   \n",
       "2  /kaggle/input/uw-madison-gi-tract-image-segmen...     266    266    36   \n",
       "3  /kaggle/input/uw-madison-gi-tract-image-segmen...     266    266    36   \n",
       "4  /kaggle/input/uw-madison-gi-tract-image-segmen...     266    266    36   \n",
       "\n",
       "   day  slice  \n",
       "0   14      6  \n",
       "1   14     82  \n",
       "2   14    113  \n",
       "3   14     76  \n",
       "4   14    125  "
      ]
     },
     "execution_count": 6,
     "metadata": {},
     "output_type": "execute_result"
    }
   ],
   "source": [
    "if debug:\n",
    "    paths = glob(f'/kaggle/input/uw-madison-gi-tract-image-segmentation/train/**/*png',recursive=True)\n",
    "#     paths = sorted(paths)\n",
    "else:\n",
    "    paths = glob(f'/kaggle/input/uw-madison-gi-tract-image-segmentation/test/**/*png',recursive=True)\n",
    "#     paths = sorted(paths)\n",
    "path_df = pd.DataFrame(paths, columns=['image_path'])\n",
    "path_df = path_df.apply(lambda x: path2info(x),axis=1)\n",
    "path_df.head()"
   ]
  },
  {
   "cell_type": "markdown",
   "id": "0bb5b1f8",
   "metadata": {
    "papermill": {
     "duration": 0.017015,
     "end_time": "2022-07-09T13:55:24.786558",
     "exception": false,
     "start_time": "2022-07-09T13:55:24.769543",
     "status": "completed"
    },
    "tags": []
   },
   "source": [
    "## Produce 3d data list for MONAI DataSet"
   ]
  },
  {
   "cell_type": "code",
   "execution_count": 7,
   "id": "2a0a5f26",
   "metadata": {
    "execution": {
     "iopub.execute_input": "2022-07-09T13:55:24.829192Z",
     "iopub.status.busy": "2022-07-09T13:55:24.828373Z",
     "iopub.status.idle": "2022-07-09T13:55:24.848587Z",
     "shell.execute_reply": "2022-07-09T13:55:24.848123Z",
     "shell.execute_reply.started": "2022-07-09T13:53:24.381354Z"
    },
    "papermill": {
     "duration": 0.044994,
     "end_time": "2022-07-09T13:55:24.848730",
     "exception": false,
     "start_time": "2022-07-09T13:55:24.803736",
     "status": "completed"
    },
    "tags": []
   },
   "outputs": [],
   "source": [
    "test_df = sub_df.merge(path_df, on=['case','day','slice'], how='left')\n",
    "test_df[\"case_id_str\"] = test_df[\"id\"].apply(lambda x: x.split(\"_\", 2)[0])\n",
    "test_df[\"day_num_str\"] = test_df[\"id\"].apply(lambda x: x.split(\"_\", 2)[1])\n",
    "test_df[\"slice_id\"] = test_df[\"id\"].apply(lambda x: x.split(\"_\", 2)[2])"
   ]
  },
  {
   "cell_type": "code",
   "execution_count": 8,
   "id": "3f4c3e7d",
   "metadata": {
    "execution": {
     "iopub.execute_input": "2022-07-09T13:55:24.893987Z",
     "iopub.status.busy": "2022-07-09T13:55:24.891478Z",
     "iopub.status.idle": "2022-07-09T13:55:25.024416Z",
     "shell.execute_reply": "2022-07-09T13:55:25.023685Z",
     "shell.execute_reply.started": "2022-07-09T13:53:24.409104Z"
    },
    "papermill": {
     "duration": 0.157978,
     "end_time": "2022-07-09T13:55:25.024530",
     "exception": false,
     "start_time": "2022-07-09T13:55:24.866552",
     "status": "completed"
    },
    "tags": []
   },
   "outputs": [],
   "source": [
    "test_data = []\n",
    "\n",
    "for group in test_df.groupby([\"case_id_str\", \"day_num_str\"]):\n",
    "\n",
    "    case_id_str, day_num_str = group[0]\n",
    "    group_id = case_id_str + \"_\" + day_num_str\n",
    "    group_df = group[1].sort_values(\"slice_id\", ascending=True)\n",
    "    n_slices = group_df.shape[0]\n",
    "    group_slices, group_ids = [], []\n",
    "    for idx in range(n_slices):\n",
    "        slc = group_df.iloc[idx]\n",
    "        group_slices.append(slc.image_path)\n",
    "        group_ids.append(slc.id)\n",
    "    test_data.append({\"image\": group_slices, \"id\": group_ids})"
   ]
  },
  {
   "cell_type": "markdown",
   "id": "a8367ab5",
   "metadata": {
    "papermill": {
     "duration": 0.016937,
     "end_time": "2022-07-09T13:55:25.093018",
     "exception": false,
     "start_time": "2022-07-09T13:55:25.076081",
     "status": "completed"
    },
    "tags": []
   },
   "source": [
    "## Prepare Transforms, Dataset, DataLoader"
   ]
  },
  {
   "cell_type": "code",
   "execution_count": 9,
   "id": "4a2812eb",
   "metadata": {
    "execution": {
     "iopub.execute_input": "2022-07-09T13:55:25.186113Z",
     "iopub.status.busy": "2022-07-09T13:55:25.185320Z",
     "iopub.status.idle": "2022-07-09T13:55:25.192792Z",
     "shell.execute_reply": "2022-07-09T13:55:25.193409Z",
     "shell.execute_reply.started": "2022-07-09T13:53:24.546323Z"
    },
    "papermill": {
     "duration": 0.083345,
     "end_time": "2022-07-09T13:55:25.193638",
     "exception": false,
     "start_time": "2022-07-09T13:55:25.110293",
     "status": "completed"
    },
    "tags": []
   },
   "outputs": [],
   "source": [
    "class cfg:\n",
    "    img_size = (224, 224, 80)\n",
    "    in_channels = 1\n",
    "    out_channels = 3\n",
    "    device = torch.device(\"cuda:0\" if torch.cuda.is_available() else \"cpu\")\n",
    "    weights = ['../input/uwmadison-gi-tract-image-segmentation-weights/best_weights_fold_0.pth', '../input/uwmadison-gi-tract-image-segmentation-weights/best_weights_fold_1.pth']\n",
    "    \n",
    "    weights2 = glob(\"../input/uw3dweights/large*\")\n",
    "    batch_size = 1\n",
    "    sw_batch_size = 4"
   ]
  },
  {
   "cell_type": "code",
   "execution_count": 10,
   "id": "54bff7a4",
   "metadata": {
    "execution": {
     "iopub.execute_input": "2022-07-09T13:55:25.232243Z",
     "iopub.status.busy": "2022-07-09T13:55:25.231289Z",
     "iopub.status.idle": "2022-07-09T13:55:25.240716Z",
     "shell.execute_reply": "2022-07-09T13:55:25.240293Z",
     "shell.execute_reply.started": "2022-07-09T13:53:24.617819Z"
    },
    "papermill": {
     "duration": 0.028933,
     "end_time": "2022-07-09T13:55:25.240829",
     "exception": false,
     "start_time": "2022-07-09T13:55:25.211896",
     "status": "completed"
    },
    "tags": []
   },
   "outputs": [],
   "source": [
    "test_transforms = Compose(\n",
    "    [\n",
    "        LoadImaged(keys=\"image\"), # d, h, w\n",
    "        AddChanneld(keys=\"image\"), # c, d, h, w\n",
    "        Transposed(keys=\"image\", indices=[0, 2, 3, 1]), # c, w, h, d\n",
    "        Lambdad(keys=\"image\", func=lambda x: x / x.max()),\n",
    "#         SpatialPadd(keys=\"image\", spatial_size=cfg.img_size),  # in case less than 80 slices\n",
    "        EnsureTyped(keys=\"image\", dtype=torch.float32),\n",
    "    ]\n",
    ")\n",
    "\n",
    "test_ds = CacheDataset(\n",
    "        data=test_data,\n",
    "        transform=test_transforms,\n",
    "        cache_rate=0.0,\n",
    "        num_workers=2,\n",
    "    )\n",
    "\n",
    "test_dataloader = DataLoader(\n",
    "    test_ds,\n",
    "    batch_size=cfg.batch_size,\n",
    "    num_workers=2,\n",
    "    pin_memory=True,\n",
    ")"
   ]
  },
  {
   "cell_type": "markdown",
   "id": "2c65df23",
   "metadata": {
    "papermill": {
     "duration": 0.017016,
     "end_time": "2022-07-09T13:55:25.274949",
     "exception": false,
     "start_time": "2022-07-09T13:55:25.257933",
     "status": "completed"
    },
    "tags": []
   },
   "source": [
    "## Prepare the Unet Network"
   ]
  },
  {
   "cell_type": "code",
   "execution_count": 11,
   "id": "aa68c297",
   "metadata": {
    "execution": {
     "iopub.execute_input": "2022-07-09T13:55:25.318137Z",
     "iopub.status.busy": "2022-07-09T13:55:25.317553Z",
     "iopub.status.idle": "2022-07-09T13:55:28.732412Z",
     "shell.execute_reply": "2022-07-09T13:55:28.732897Z"
    },
    "papermill": {
     "duration": 3.44048,
     "end_time": "2022-07-09T13:55:28.733049",
     "exception": false,
     "start_time": "2022-07-09T13:55:25.292569",
     "status": "completed"
    },
    "tags": []
   },
   "outputs": [],
   "source": [
    "model = UNet(\n",
    "    spatial_dims=3,\n",
    "    in_channels=cfg.in_channels,\n",
    "    out_channels=cfg.out_channels,\n",
    "    channels=(32, 64, 128, 256, 512),\n",
    "    strides=(2, 2, 2, 2),\n",
    "    kernel_size=3,\n",
    "    up_kernel_size=3,\n",
    "    num_res_units=2,\n",
    "    act=\"PRELU\",\n",
    "    norm=\"BATCH\",\n",
    "    dropout=0.2,\n",
    "    bias=True,\n",
    "    dimensions=None,\n",
    ").to(cfg.device)"
   ]
  },
  {
   "cell_type": "markdown",
   "id": "0c0b72ce",
   "metadata": {
    "papermill": {
     "duration": 0.017377,
     "end_time": "2022-07-09T13:55:28.767999",
     "exception": false,
     "start_time": "2022-07-09T13:55:28.750622",
     "status": "completed"
    },
    "tags": []
   },
   "source": [
    "## Infer"
   ]
  },
  {
   "cell_type": "code",
   "execution_count": 12,
   "id": "817ff90c",
   "metadata": {
    "execution": {
     "iopub.execute_input": "2022-07-09T13:55:28.808270Z",
     "iopub.status.busy": "2022-07-09T13:55:28.805430Z",
     "iopub.status.idle": "2022-07-09T13:55:28.810581Z",
     "shell.execute_reply": "2022-07-09T13:55:28.810191Z"
    },
    "papermill": {
     "duration": 0.025591,
     "end_time": "2022-07-09T13:55:28.810712",
     "exception": false,
     "start_time": "2022-07-09T13:55:28.785121",
     "status": "completed"
    },
    "tags": []
   },
   "outputs": [],
   "source": [
    "def rle_encode(img):\n",
    "    \"\"\" TBD\n",
    "    \n",
    "    Args:\n",
    "        img (np.array): \n",
    "            - 1 indicating mask\n",
    "            - 0 indicating background\n",
    "    \n",
    "    Returns: \n",
    "        run length as string formated\n",
    "    \"\"\"\n",
    "    \n",
    "    pixels = img.flatten()\n",
    "    pixels = np.concatenate([[0], pixels, [0]])\n",
    "    runs = np.where(pixels[1:] != pixels[:-1])[0] + 1\n",
    "    runs[1::2] -= runs[::2]\n",
    "    return ' '.join(str(x) for x in runs)"
   ]
  },
  {
   "cell_type": "code",
   "execution_count": 13,
   "id": "5a2b6322",
   "metadata": {
    "execution": {
     "iopub.execute_input": "2022-07-09T13:55:28.861998Z",
     "iopub.status.busy": "2022-07-09T13:55:28.860264Z",
     "iopub.status.idle": "2022-07-09T13:56:39.562983Z",
     "shell.execute_reply": "2022-07-09T13:56:39.561384Z"
    },
    "papermill": {
     "duration": 70.734525,
     "end_time": "2022-07-09T13:56:39.563111",
     "exception": false,
     "start_time": "2022-07-09T13:55:28.828586",
     "status": "completed"
    },
    "tags": []
   },
   "outputs": [
    {
     "name": "stderr",
     "output_type": "stream",
     "text": [
      "100%|██████████| 7/7 [01:10<00:00, 10.09s/it]\n"
     ]
    }
   ],
   "source": [
    "outputs = []\n",
    "\n",
    "post_pred = Compose([\n",
    "    Activations(sigmoid=True),\n",
    "    AsDiscrete(threshold=0.28), # 0.5 -> 0.28\n",
    "])\n",
    "\n",
    "model.eval()\n",
    "torch.set_grad_enabled(False)\n",
    "progress_bar = tqdm(range(len(test_dataloader)))\n",
    "val_it = iter(test_dataloader)\n",
    "for itr in progress_bar:\n",
    "    batch = next(val_it)\n",
    "    test_inputs = batch[\"image\"].to(cfg.device)\n",
    "\n",
    "    pred_all = []\n",
    "    for weights in cfg.weights:\n",
    "        model.load_state_dict(torch.load(weights)['model'])\n",
    "        pred = sliding_window_inference(test_inputs, cfg.img_size, cfg.sw_batch_size, model)\n",
    "        pred_all.append(pred)\n",
    "        # do 4 tta\n",
    "        for dims in [[2], [3], [2, 3]]:\n",
    "            flip_pred = sliding_window_inference(torch.flip(test_inputs, dims=dims), cfg.img_size, cfg.sw_batch_size, model)\n",
    "            flip_pred = torch.flip(flip_pred, dims=dims)\n",
    "            pred_all.append(flip_pred)\n",
    "            \n",
    "    for weights in cfg.weights2:\n",
    "        model.load_state_dict(torch.load(weights))\n",
    "        pred = sliding_window_inference(test_inputs, cfg.img_size, cfg.sw_batch_size, model)\n",
    "        pred_all.append(pred)\n",
    "        \n",
    "        # do 4 tta\n",
    "        for dims in [[2], [3], [2, 3]]:\n",
    "            flip_pred = sliding_window_inference(torch.flip(test_inputs, dims=dims), cfg.img_size, cfg.sw_batch_size, model)\n",
    "            flip_pred = torch.flip(flip_pred, dims=dims)\n",
    "            pred_all.append(flip_pred)\n",
    "    \n",
    "    pred_all = torch.mean(torch.stack(pred_all), dim=0)[0]\n",
    "    pred_all = post_pred(pred_all)\n",
    "    # c, w, h, d to d, c, h, w\n",
    "    pred_all = torch.permute(pred_all, [3, 0, 2, 1]).cpu().numpy().astype(np.uint8)\n",
    "    id_outputs = from_engine([\"id\"])(batch)[0]\n",
    "\n",
    "    for test_output, id_output in zip(pred_all, id_outputs):\n",
    "        id_name = id_output[0]\n",
    "        lb, sb, st = test_output\n",
    "        outputs.append([id_name, \"large_bowel\", rle_encode(lb)])\n",
    "        outputs.append([id_name, \"small_bowel\", rle_encode(sb)])\n",
    "        outputs.append([id_name, \"stomach\", rle_encode(st)])\n"
   ]
  },
  {
   "cell_type": "code",
   "execution_count": 14,
   "id": "341526d6",
   "metadata": {
    "execution": {
     "iopub.execute_input": "2022-07-09T13:56:39.653452Z",
     "iopub.status.busy": "2022-07-09T13:56:39.652672Z",
     "iopub.status.idle": "2022-07-09T13:56:39.698772Z",
     "shell.execute_reply": "2022-07-09T13:56:39.699873Z"
    },
    "papermill": {
     "duration": 0.091867,
     "end_time": "2022-07-09T13:56:39.700091",
     "exception": false,
     "start_time": "2022-07-09T13:56:39.608224",
     "status": "completed"
    },
    "tags": []
   },
   "outputs": [],
   "source": [
    "submit = pd.DataFrame(data=np.array(outputs), columns=[\"id\", \"class\", \"predicted\"])"
   ]
  },
  {
   "cell_type": "code",
   "execution_count": 15,
   "id": "4b789153",
   "metadata": {
    "execution": {
     "iopub.execute_input": "2022-07-09T13:56:39.777329Z",
     "iopub.status.busy": "2022-07-09T13:56:39.776498Z",
     "iopub.status.idle": "2022-07-09T13:56:39.822121Z",
     "shell.execute_reply": "2022-07-09T13:56:39.823226Z"
    },
    "papermill": {
     "duration": 0.087451,
     "end_time": "2022-07-09T13:56:39.823399",
     "exception": false,
     "start_time": "2022-07-09T13:56:39.735948",
     "status": "completed"
    },
    "tags": []
   },
   "outputs": [],
   "source": [
    "if not debug:\n",
    "    sub_df = pd.read_csv('../input/uw-madison-gi-tract-image-segmentation/sample_submission.csv')\n",
    "    del sub_df['predicted']\n",
    "    sub_df = sub_df.merge(submit, on=['id','class'])\n",
    "    sub_df.to_csv('submission.csv',index=False)\n",
    "else:\n",
    "    submit.to_csv('submission.csv', index=False)"
   ]
  },
  {
   "cell_type": "code",
   "execution_count": 16,
   "id": "90420bc8",
   "metadata": {
    "execution": {
     "iopub.execute_input": "2022-07-09T13:56:39.908283Z",
     "iopub.status.busy": "2022-07-09T13:56:39.907530Z",
     "iopub.status.idle": "2022-07-09T13:56:39.917748Z",
     "shell.execute_reply": "2022-07-09T13:56:39.918686Z"
    },
    "papermill": {
     "duration": 0.059848,
     "end_time": "2022-07-09T13:56:39.918861",
     "exception": false,
     "start_time": "2022-07-09T13:56:39.859013",
     "status": "completed"
    },
    "tags": []
   },
   "outputs": [
    {
     "data": {
      "text/html": [
       "<div>\n",
       "<style scoped>\n",
       "    .dataframe tbody tr th:only-of-type {\n",
       "        vertical-align: middle;\n",
       "    }\n",
       "\n",
       "    .dataframe tbody tr th {\n",
       "        vertical-align: top;\n",
       "    }\n",
       "\n",
       "    .dataframe thead th {\n",
       "        text-align: right;\n",
       "    }\n",
       "</style>\n",
       "<table border=\"1\" class=\"dataframe\">\n",
       "  <thead>\n",
       "    <tr style=\"text-align: right;\">\n",
       "      <th></th>\n",
       "      <th>id</th>\n",
       "      <th>class</th>\n",
       "      <th>predicted</th>\n",
       "    </tr>\n",
       "  </thead>\n",
       "  <tbody>\n",
       "    <tr>\n",
       "      <th>0</th>\n",
       "      <td>case123_day0_slice_0001</td>\n",
       "      <td>large_bowel</td>\n",
       "      <td></td>\n",
       "    </tr>\n",
       "    <tr>\n",
       "      <th>1</th>\n",
       "      <td>case123_day0_slice_0001</td>\n",
       "      <td>small_bowel</td>\n",
       "      <td></td>\n",
       "    </tr>\n",
       "    <tr>\n",
       "      <th>2</th>\n",
       "      <td>case123_day0_slice_0001</td>\n",
       "      <td>stomach</td>\n",
       "      <td></td>\n",
       "    </tr>\n",
       "    <tr>\n",
       "      <th>3</th>\n",
       "      <td>case123_day0_slice_0002</td>\n",
       "      <td>large_bowel</td>\n",
       "      <td></td>\n",
       "    </tr>\n",
       "    <tr>\n",
       "      <th>4</th>\n",
       "      <td>case123_day0_slice_0002</td>\n",
       "      <td>small_bowel</td>\n",
       "      <td></td>\n",
       "    </tr>\n",
       "    <tr>\n",
       "      <th>...</th>\n",
       "      <td>...</td>\n",
       "      <td>...</td>\n",
       "      <td>...</td>\n",
       "    </tr>\n",
       "    <tr>\n",
       "      <th>2995</th>\n",
       "      <td>case77_day20_slice_0143</td>\n",
       "      <td>small_bowel</td>\n",
       "      <td></td>\n",
       "    </tr>\n",
       "    <tr>\n",
       "      <th>2996</th>\n",
       "      <td>case77_day20_slice_0143</td>\n",
       "      <td>stomach</td>\n",
       "      <td></td>\n",
       "    </tr>\n",
       "    <tr>\n",
       "      <th>2997</th>\n",
       "      <td>case77_day20_slice_0144</td>\n",
       "      <td>large_bowel</td>\n",
       "      <td></td>\n",
       "    </tr>\n",
       "    <tr>\n",
       "      <th>2998</th>\n",
       "      <td>case77_day20_slice_0144</td>\n",
       "      <td>small_bowel</td>\n",
       "      <td></td>\n",
       "    </tr>\n",
       "    <tr>\n",
       "      <th>2999</th>\n",
       "      <td>case77_day20_slice_0144</td>\n",
       "      <td>stomach</td>\n",
       "      <td></td>\n",
       "    </tr>\n",
       "  </tbody>\n",
       "</table>\n",
       "<p>2189 rows × 3 columns</p>\n",
       "</div>"
      ],
      "text/plain": [
       "                           id        class predicted\n",
       "0     case123_day0_slice_0001  large_bowel          \n",
       "1     case123_day0_slice_0001  small_bowel          \n",
       "2     case123_day0_slice_0001      stomach          \n",
       "3     case123_day0_slice_0002  large_bowel          \n",
       "4     case123_day0_slice_0002  small_bowel          \n",
       "...                       ...          ...       ...\n",
       "2995  case77_day20_slice_0143  small_bowel          \n",
       "2996  case77_day20_slice_0143      stomach          \n",
       "2997  case77_day20_slice_0144  large_bowel          \n",
       "2998  case77_day20_slice_0144  small_bowel          \n",
       "2999  case77_day20_slice_0144      stomach          \n",
       "\n",
       "[2189 rows x 3 columns]"
      ]
     },
     "execution_count": 16,
     "metadata": {},
     "output_type": "execute_result"
    }
   ],
   "source": [
    "submit[ submit['predicted'] == ''] #submission file for predicted labels (large_bowel, small_bowel, stomach.)"
   ]
  }
 ],
 "metadata": {
  "kernelspec": {
   "display_name": "Python 3",
   "language": "python",
   "name": "python3"
  },
  "language_info": {
   "codemirror_mode": {
    "name": "ipython",
    "version": 3
   },
   "file_extension": ".py",
   "mimetype": "text/x-python",
   "name": "python",
   "nbconvert_exporter": "python",
   "pygments_lexer": "ipython3",
   "version": "3.7.12"
  },
  "papermill": {
   "default_parameters": {},
   "duration": 188.113371,
   "end_time": "2022-07-09T13:56:41.795737",
   "environment_variables": {},
   "exception": null,
   "input_path": "__notebook__.ipynb",
   "output_path": "__notebook__.ipynb",
   "parameters": {},
   "start_time": "2022-07-09T13:53:33.682366",
   "version": "2.3.3"
  }
 },
 "nbformat": 4,
 "nbformat_minor": 5
}
